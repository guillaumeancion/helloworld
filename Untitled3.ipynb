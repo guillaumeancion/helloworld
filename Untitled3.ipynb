{
  "nbformat": 4,
  "nbformat_minor": 0,
  "metadata": {
    "colab": {
      "provenance": [],
      "authorship_tag": "ABX9TyNw7uIPwjQzDuVlbpvyk21U",
      "include_colab_link": true
    },
    "kernelspec": {
      "name": "python3",
      "display_name": "Python 3"
    },
    "language_info": {
      "name": "python"
    }
  },
  "cells": [
    {
      "cell_type": "markdown",
      "metadata": {
        "id": "view-in-github",
        "colab_type": "text"
      },
      "source": [
        "<a href=\"https://colab.research.google.com/github/guillaumeancion/helloworld/blob/main/Untitled3.ipynb\" target=\"_parent\"><img src=\"https://colab.research.google.com/assets/colab-badge.svg\" alt=\"Open In Colab\"/></a>"
      ]
    },
    {
      "cell_type": "code",
      "execution_count": 5,
      "metadata": {
        "colab": {
          "base_uri": "https://localhost:8080/"
        },
        "id": "jyDEiOBBMPBR",
        "outputId": "9134b554-3bdb-4fb2-dd99-19b2de15c598"
      },
      "outputs": [
        {
          "output_type": "stream",
          "name": "stdout",
          "text": [
            "hello\n",
            "Guillaume\n",
            "oui\n",
            "donne moi un nombre1\n",
            "donne moi un nombre3\n",
            "la moyenne est 2.0\n"
          ]
        }
      ],
      "source": [
        "print (\"hello\")\n",
        "print(\"Guillaume\")\n",
        "print(\"oui\")\n",
        "x=int(input(\"donne moi un nombre\"))\n",
        "y=int(input(\"donne moi un nombre\"))\n",
        "z=(x+y)/2\n",
        "print(\"la moyenne est\",z)"
      ]
    }
  ]
}